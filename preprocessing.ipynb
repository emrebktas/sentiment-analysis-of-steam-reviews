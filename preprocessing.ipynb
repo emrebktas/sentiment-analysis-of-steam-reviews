{
 "cells": [
  {
   "cell_type": "code",
   "execution_count": 27,
   "metadata": {},
   "outputs": [
    {
     "name": "stderr",
     "output_type": "stream",
     "text": [
      "[nltk_data] Downloading package punkt to\n",
      "[nltk_data]     C:\\Users\\Emre\\AppData\\Roaming\\nltk_data...\n",
      "[nltk_data]   Package punkt is already up-to-date!\n",
      "[nltk_data] Downloading package averaged_perceptron_tagger_eng to\n",
      "[nltk_data]     C:\\Users\\Emre\\AppData\\Roaming\\nltk_data...\n",
      "[nltk_data]   Package averaged_perceptron_tagger_eng is already up-to-\n",
      "[nltk_data]       date!\n"
     ]
    }
   ],
   "source": [
    "from selenium import webdriver\n",
    "from selenium.webdriver.common.by import By\n",
    "import time\n",
    "import chromedriver_autoinstaller\n",
    "import pandas as pd\n",
    "import re\n",
    "\n",
    "from nltk.tokenize import word_tokenize\n",
    "import nltk\n",
    "nltk.download('punkt')\n",
    "nltk.download('averaged_perceptron_tagger_eng')\n",
    "\n",
    "import spacy\n",
    "nlp = spacy.load(\"en_core_web_sm\")\n",
    "\n",
    "\n"
   ]
  },
  {
   "cell_type": "code",
   "execution_count": 28,
   "metadata": {},
   "outputs": [],
   "source": [
    "\n",
    "chromedriver_autoinstaller.install()\n",
    "driver = webdriver.Chrome()\n",
    "\n",
    "game_id = \"413150\"\n",
    "steam_url = f\"https://steamcommunity.com/app/{game_id}/reviews/?filterLanguage=english&p=1&browsefilter=toprated\"\n",
    "driver.get(steam_url)\n",
    "driver.maximize_window()\n",
    "time.sleep(5) #yükleme için bekleme\n",
    "start_time = time.time() \n"
   ]
  },
  {
   "cell_type": "code",
   "execution_count": 29,
   "metadata": {},
   "outputs": [],
   "source": [
    "def scroll_the_website():\n",
    "\n",
    "    while True:   \n",
    "\n",
    "        driver.execute_script(\"window.scrollTo(0, document.body.scrollHeight);\")\n",
    "        time.sleep(2)\n",
    "        \n",
    "        if time.time()-start_time > 200:\n",
    "            break\n",
    "\n",
    "scroll_the_website()\n",
    "\n",
    "reviews = driver.find_elements(By.CLASS_NAME, 'apphub_CardTextContent')\n",
    "labels = labels = driver.find_elements(By.CSS_SELECTOR, 'div.title')\n"
   ]
  },
  {
   "cell_type": "markdown",
   "metadata": {},
   "source": [
    "## Datayı toplama\n"
   ]
  },
  {
   "cell_type": "code",
   "execution_count": 30,
   "metadata": {},
   "outputs": [],
   "source": [
    "labels_list = []\n",
    "review_list = []\n",
    "\n",
    "def store_the_reviews():\n",
    "\n",
    "    for review in reviews:\n",
    "        review_text = review.text\n",
    "        review_list.append(review_text)\n",
    "\n",
    "def store_the_labels():\n",
    "\n",
    "    for label in labels:\n",
    "        labels_text = label.text\n",
    "        labels_list.append(labels_text)\n",
    "\n",
    "store_the_reviews()\n",
    "store_the_labels()\n",
    "driver.quit()"
   ]
  },
  {
   "cell_type": "markdown",
   "metadata": {},
   "source": [
    "## Cleaning the data\n"
   ]
  },
  {
   "cell_type": "code",
   "execution_count": 31,
   "metadata": {},
   "outputs": [],
   "source": [
    "cleaned_reviews = []  \n",
    "\n",
    "for review_text in review_list:\n",
    "    review_text = review_text.split(\"\\n\")[1:]\n",
    "    review_text = [item.replace(\"Ürün ücretsiz alındı\", \"\") for item in review_text]\n",
    "    review_text = ' '.join(review_text)\n",
    "    review_text = re.sub('[^a-zA-Z]', ' ', review_text)\n",
    "    review_text = review_text.lower()\n",
    "    doc = nlp(review_text)\n",
    "    review_text = \" \".join([token.lemma_ for token in doc]) \n",
    "    cleaned_reviews.append(review_text)\n",
    "\n",
    "\n"
   ]
  },
  {
   "cell_type": "code",
   "execution_count": 32,
   "metadata": {},
   "outputs": [],
   "source": [
    "df_data = pd.DataFrame({'review': cleaned_reviews, 'labels': labels_list})\n",
    "df_data['labels'] = df_data['labels'].map({'Tavsiye Ediliyor': 1, 'Tavsiye Edilmiyor': 0})\n",
    "df_data.head(len(df_data))\n",
    "df_data.to_csv('preprocessed_data2.csv', index=False)"
   ]
  },
  {
   "cell_type": "code",
   "execution_count": null,
   "metadata": {},
   "outputs": [],
   "source": [
    "\n",
    "\n",
    "\n"
   ]
  },
  {
   "cell_type": "code",
   "execution_count": null,
   "metadata": {},
   "outputs": [],
   "source": [
    "\n",
    "\n",
    "\n"
   ]
  }
 ],
 "metadata": {
  "kernelspec": {
   "display_name": "Python 3",
   "language": "python",
   "name": "python3"
  },
  "language_info": {
   "codemirror_mode": {
    "name": "ipython",
    "version": 3
   },
   "file_extension": ".py",
   "mimetype": "text/x-python",
   "name": "python",
   "nbconvert_exporter": "python",
   "pygments_lexer": "ipython3",
   "version": "3.12.2"
  }
 },
 "nbformat": 4,
 "nbformat_minor": 2
}
